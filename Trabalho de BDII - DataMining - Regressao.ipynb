{
 "cells": [
  {
   "cell_type": "markdown",
   "metadata": {},
   "source": [
    "# Data Mining e Algoritmos\n",
    "Data mining é o processo de descobrir informação preditiva a partir da análise de grandes bases de dados. Para um cientista de dados, data mining pode ser uma tarefa vaga e assustadora - requer um conjunto diverso de habilidades e conhecimento de várias técnicas de data mining para pegar um dado cru e conseguir visualizar informações com sucesso. É preciso entender os fundamentos de estatística e diferentes linguagens de programaçção que possam ajudar com a mineração de dados.\n",
    "Aqui sera demonstrado um pequeno exemplo introdutório a mineração de dados usando Python, uma das ferramentas mais usadas em data mining - desde o tratamento e organização dos dados até a aplicação de algoritmos. Primeiro, vamos ter um entendimento melhor sobre data mining e como conseguir minerar os dados.\n",
    "## Uma definição de data mining\n",
    "O objetivo desejado da mineração de dados é criar um modelo a partir de um dado dataset que possua predições generalizadas para datasets similares. Um exemplo no mundo real de uma aplicação de mineração de dados de sucesso pode ser visto em detecção automática de fraudes em bancos e instituições de crédito\n",
    "O banco tem uma politica para alertar o cliente caso eles detectem atividade suspeita na conta - como saques repetidos num ATM ou grandes compras em um estado fora de sua praça. E o que isso tem a ver com mineração de dados? Cientistas de dados crearam esse sistema aplicando algoritmos para classificar e prever quando uma transação é fraudulenta comparando a transação com um padrão no histórico de transações fraudulentas e não fraudulentas. O modelo \"sabe\" que se você vive em Fortaleza, Ceará, é autamente provavel que as comprar de cinco mil reais  feitas em uma província pouco populada na Russia não são legítimas.\n",
    "Esse foi é apenas um exemplo dentre tantas aplicações poderosas de mineração de dados. Outras aplicações incluem sequenciamento de genoma, analise de redes sociais, etc - mas o uso mais comum de mineração de dados é para análise de aspectos do ciclo de vida do consumidor. Campanhias usam mineração de dados para descobrir preferencias do cliente, classificar diferentes clientes baseado em suas compras anteriores, e determinar o que atraí os melhores clientes - informações que pode ter um efeito profundo no aumento dos lucros e corte de custos.\n",
    "## Quais são algumas das técnicas de mineração de dados?\n",
    "Existem vários caminhos para construir modelos preditivos a partir de um conjunto de dados, e um cientista de dados deve entender os conceitos por trás dessas técnicas, e também como usar código para produzir modelos similares e vizualizações. Essas tecnicas incluem:\n",
    "<ul>\n",
    "<li> Regressão - Estimar a relação entre variáveis otimizando a redução de erro. </li>\n",
    "<li> Classificação - Identificar qual a categoria que um objeto perteence. Um exemplo é classificar se um email é um spam ou não, ou olhar a pontuação de crétido de um apessoa e aprovar ou não um empréstimo. </li>\n",
    "<li> Analise de Cluster - Encontrar grupos naturais de objetos de dados baseado nas características conhecidas desses dados. Um exemplo pode ser visto em marketing, onde uma análise consegue revelar grupos de clientes com comportamento semelhante - que pode apoiar decisões estratégicas de negócio. </li>\n",
    "<li> Análise de Associação e Correlação - Buscar se existem relações únicas entre variáveis que não são óbvias à primeira vista. Um exemplo seria o famoso caso da cerveja e das fraldas: homens que compram fraldas no fim da semana têm probabilidade maior de comprar cerveja, então as lojas colocam cervejas e fraldas no mesmo lugar para aumentar as vendas. </li>\n",
    "<li> Análise de valor atípico - Examinar valores atípicos para examinar as causas potenciais e razões para esses valores. Um exemplo do uso dessa análise é a detecção de fraudes, e a tentativa de determinar se um padrão de comportamento fora da norma é fraude ou não. </li>\n",
    "</ul>\n",
    "Mineração de dados para negócios é geralmente executada com um banco de dados transacional e dinâmico que permite o uso fácil de ferramentas de mineração de dados para análise. Um exemplo disso seria um On-Line Analytical Processing Server (Servidor de Processamento Analítico On-Line), ou OLAP. OLAPs permitem que empresas coletem e analizem dados sem ter que baixar arquivos de dados estáticos, o que ajuda em situações onde a base de dados está crescendo diariamente. Porém, para alguém que está querendo aprender mineração de dados e preticar por conta própria, um notebook python é perfeitamente viável para manusear a maioria das tarefas de mineração de dados.\n",
    "Vamos ver como utilizar Python para executar mineração de dados utilizando dois algorítmos descritos acima: regressão e clusterização.\n",
    "## Criando um modelo de regressão em Python\n",
    "Que problema queremos resolver?\n",
    "Queremos criar uma estimativa da relação linear entre variáveis, imprimir os coeficientes de correlação e plotar a linha de melhor ajuste. Para esta analise, iremos usar o dataset House Sales in King's County do Kaggle. O King's County data tem informação de preços e caracteristicas de casas - então vamos ver se conseguimos estimar relação entre preço (em dólares) e área da casa (em pés quadrados).\n",
    "Primeiro vamos importar alguns modulos: Numpy para computação científica, Matplotlib para a visualização em python, Scipy para estatísticas."
   ]
  },
  {
   "cell_type": "code",
   "execution_count": 1,
   "metadata": {},
   "outputs": [
    {
     "name": "stdout",
     "output_type": "stream",
     "text": [
      "Populating the interactive namespace from numpy and matplotlib\n"
     ]
    }
   ],
   "source": [
    "import pandas as pd\n",
    "import matplotlib.pyplot as plt\n",
    "import numpy as np\n",
    "import scipy.stats as stats\n",
    "import seaborn as sns\n",
    "from matplotlib import rcParams\n",
    "\n",
    "%matplotlib inline\n",
    "%pylab inline"
   ]
  },
  {
   "cell_type": "markdown",
   "metadata": {},
   "source": [
    "Vamos demonstrar como aplicar mineração de dados para resolver um problema de regressão passo a passo. Na vida real provavelmente não teríamos um conjunto de dados pronto para ter técnicas de machine learning aplicadas, então você teria que ortanizar os dados primeiro.\n",
    "Vamos então ler o CSV:"
   ]
  },
  {
   "cell_type": "code",
   "execution_count": 2,
   "metadata": {},
   "outputs": [
    {
     "data": {
      "text/html": [
       "<div>\n",
       "<style>\n",
       "    .dataframe thead tr:only-child th {\n",
       "        text-align: right;\n",
       "    }\n",
       "\n",
       "    .dataframe thead th {\n",
       "        text-align: left;\n",
       "    }\n",
       "\n",
       "    .dataframe tbody tr th {\n",
       "        vertical-align: top;\n",
       "    }\n",
       "</style>\n",
       "<table border=\"1\" class=\"dataframe\">\n",
       "  <thead>\n",
       "    <tr style=\"text-align: right;\">\n",
       "      <th></th>\n",
       "      <th>id</th>\n",
       "      <th>date</th>\n",
       "      <th>price</th>\n",
       "      <th>bedrooms</th>\n",
       "      <th>bathrooms</th>\n",
       "      <th>sqft_living</th>\n",
       "      <th>sqft_lot</th>\n",
       "      <th>floors</th>\n",
       "      <th>waterfront</th>\n",
       "      <th>view</th>\n",
       "      <th>...</th>\n",
       "      <th>grade</th>\n",
       "      <th>sqft_above</th>\n",
       "      <th>sqft_basement</th>\n",
       "      <th>yr_built</th>\n",
       "      <th>yr_renovated</th>\n",
       "      <th>zipcode</th>\n",
       "      <th>lat</th>\n",
       "      <th>long</th>\n",
       "      <th>sqft_living15</th>\n",
       "      <th>sqft_lot15</th>\n",
       "    </tr>\n",
       "  </thead>\n",
       "  <tbody>\n",
       "    <tr>\n",
       "      <th>0</th>\n",
       "      <td>7129300520</td>\n",
       "      <td>20141013T000000</td>\n",
       "      <td>221900.0</td>\n",
       "      <td>3</td>\n",
       "      <td>1.00</td>\n",
       "      <td>1180</td>\n",
       "      <td>5650</td>\n",
       "      <td>1.0</td>\n",
       "      <td>0</td>\n",
       "      <td>0</td>\n",
       "      <td>...</td>\n",
       "      <td>7</td>\n",
       "      <td>1180</td>\n",
       "      <td>0</td>\n",
       "      <td>1955</td>\n",
       "      <td>0</td>\n",
       "      <td>98178</td>\n",
       "      <td>47.5112</td>\n",
       "      <td>-122.257</td>\n",
       "      <td>1340</td>\n",
       "      <td>5650</td>\n",
       "    </tr>\n",
       "    <tr>\n",
       "      <th>1</th>\n",
       "      <td>6414100192</td>\n",
       "      <td>20141209T000000</td>\n",
       "      <td>538000.0</td>\n",
       "      <td>3</td>\n",
       "      <td>2.25</td>\n",
       "      <td>2570</td>\n",
       "      <td>7242</td>\n",
       "      <td>2.0</td>\n",
       "      <td>0</td>\n",
       "      <td>0</td>\n",
       "      <td>...</td>\n",
       "      <td>7</td>\n",
       "      <td>2170</td>\n",
       "      <td>400</td>\n",
       "      <td>1951</td>\n",
       "      <td>1991</td>\n",
       "      <td>98125</td>\n",
       "      <td>47.7210</td>\n",
       "      <td>-122.319</td>\n",
       "      <td>1690</td>\n",
       "      <td>7639</td>\n",
       "    </tr>\n",
       "    <tr>\n",
       "      <th>2</th>\n",
       "      <td>5631500400</td>\n",
       "      <td>20150225T000000</td>\n",
       "      <td>180000.0</td>\n",
       "      <td>2</td>\n",
       "      <td>1.00</td>\n",
       "      <td>770</td>\n",
       "      <td>10000</td>\n",
       "      <td>1.0</td>\n",
       "      <td>0</td>\n",
       "      <td>0</td>\n",
       "      <td>...</td>\n",
       "      <td>6</td>\n",
       "      <td>770</td>\n",
       "      <td>0</td>\n",
       "      <td>1933</td>\n",
       "      <td>0</td>\n",
       "      <td>98028</td>\n",
       "      <td>47.7379</td>\n",
       "      <td>-122.233</td>\n",
       "      <td>2720</td>\n",
       "      <td>8062</td>\n",
       "    </tr>\n",
       "    <tr>\n",
       "      <th>3</th>\n",
       "      <td>2487200875</td>\n",
       "      <td>20141209T000000</td>\n",
       "      <td>604000.0</td>\n",
       "      <td>4</td>\n",
       "      <td>3.00</td>\n",
       "      <td>1960</td>\n",
       "      <td>5000</td>\n",
       "      <td>1.0</td>\n",
       "      <td>0</td>\n",
       "      <td>0</td>\n",
       "      <td>...</td>\n",
       "      <td>7</td>\n",
       "      <td>1050</td>\n",
       "      <td>910</td>\n",
       "      <td>1965</td>\n",
       "      <td>0</td>\n",
       "      <td>98136</td>\n",
       "      <td>47.5208</td>\n",
       "      <td>-122.393</td>\n",
       "      <td>1360</td>\n",
       "      <td>5000</td>\n",
       "    </tr>\n",
       "    <tr>\n",
       "      <th>4</th>\n",
       "      <td>1954400510</td>\n",
       "      <td>20150218T000000</td>\n",
       "      <td>510000.0</td>\n",
       "      <td>3</td>\n",
       "      <td>2.00</td>\n",
       "      <td>1680</td>\n",
       "      <td>8080</td>\n",
       "      <td>1.0</td>\n",
       "      <td>0</td>\n",
       "      <td>0</td>\n",
       "      <td>...</td>\n",
       "      <td>8</td>\n",
       "      <td>1680</td>\n",
       "      <td>0</td>\n",
       "      <td>1987</td>\n",
       "      <td>0</td>\n",
       "      <td>98074</td>\n",
       "      <td>47.6168</td>\n",
       "      <td>-122.045</td>\n",
       "      <td>1800</td>\n",
       "      <td>7503</td>\n",
       "    </tr>\n",
       "  </tbody>\n",
       "</table>\n",
       "<p>5 rows × 21 columns</p>\n",
       "</div>"
      ],
      "text/plain": [
       "           id             date     price  bedrooms  bathrooms  sqft_living  \\\n",
       "0  7129300520  20141013T000000  221900.0         3       1.00         1180   \n",
       "1  6414100192  20141209T000000  538000.0         3       2.25         2570   \n",
       "2  5631500400  20150225T000000  180000.0         2       1.00          770   \n",
       "3  2487200875  20141209T000000  604000.0         4       3.00         1960   \n",
       "4  1954400510  20150218T000000  510000.0         3       2.00         1680   \n",
       "\n",
       "   sqft_lot  floors  waterfront  view     ...      grade  sqft_above  \\\n",
       "0      5650     1.0           0     0     ...          7        1180   \n",
       "1      7242     2.0           0     0     ...          7        2170   \n",
       "2     10000     1.0           0     0     ...          6         770   \n",
       "3      5000     1.0           0     0     ...          7        1050   \n",
       "4      8080     1.0           0     0     ...          8        1680   \n",
       "\n",
       "   sqft_basement  yr_built  yr_renovated  zipcode      lat     long  \\\n",
       "0              0      1955             0    98178  47.5112 -122.257   \n",
       "1            400      1951          1991    98125  47.7210 -122.319   \n",
       "2              0      1933             0    98028  47.7379 -122.233   \n",
       "3            910      1965             0    98136  47.5208 -122.393   \n",
       "4              0      1987             0    98074  47.6168 -122.045   \n",
       "\n",
       "   sqft_living15  sqft_lot15  \n",
       "0           1340        5650  \n",
       "1           1690        7639  \n",
       "2           2720        8062  \n",
       "3           1360        5000  \n",
       "4           1800        7503  \n",
       "\n",
       "[5 rows x 21 columns]"
      ]
     },
     "execution_count": 2,
     "metadata": {},
     "output_type": "execute_result"
    }
   ],
   "source": [
    "df = pd.read_csv('kc_house_data.csv')\n",
    "df.head()"
   ]
  },
  {
   "cell_type": "markdown",
   "metadata": {},
   "source": [
    "Checando se algum dado tem valor null. Se houver algum, descartaremos ou filtraremos."
   ]
  },
  {
   "cell_type": "code",
   "execution_count": 3,
   "metadata": {},
   "outputs": [
    {
     "data": {
      "text/plain": [
       "id               False\n",
       "date             False\n",
       "price            False\n",
       "bedrooms         False\n",
       "bathrooms        False\n",
       "sqft_living      False\n",
       "sqft_lot         False\n",
       "floors           False\n",
       "waterfront       False\n",
       "view             False\n",
       "condition        False\n",
       "grade            False\n",
       "sqft_above       False\n",
       "sqft_basement    False\n",
       "yr_built         False\n",
       "yr_renovated     False\n",
       "zipcode          False\n",
       "lat              False\n",
       "long             False\n",
       "sqft_living15    False\n",
       "sqft_lot15       False\n",
       "dtype: bool"
      ]
     },
     "execution_count": 3,
     "metadata": {},
     "output_type": "execute_result"
    }
   ],
   "source": [
    "df.isnull().any()"
   ]
  },
  {
   "cell_type": "markdown",
   "metadata": {},
   "source": [
    "Checando os tipos de dados para cada variável. Queremos ter um senso de qual dado é numerico ou não."
   ]
  },
  {
   "cell_type": "code",
   "execution_count": 4,
   "metadata": {},
   "outputs": [
    {
     "data": {
      "text/plain": [
       "id                 int64\n",
       "date              object\n",
       "price            float64\n",
       "bedrooms           int64\n",
       "bathrooms        float64\n",
       "sqft_living        int64\n",
       "sqft_lot           int64\n",
       "floors           float64\n",
       "waterfront         int64\n",
       "view               int64\n",
       "condition          int64\n",
       "grade              int64\n",
       "sqft_above         int64\n",
       "sqft_basement      int64\n",
       "yr_built           int64\n",
       "yr_renovated       int64\n",
       "zipcode            int64\n",
       "lat              float64\n",
       "long             float64\n",
       "sqft_living15      int64\n",
       "sqft_lot15         int64\n",
       "dtype: object"
      ]
     },
     "execution_count": 4,
     "metadata": {},
     "output_type": "execute_result"
    }
   ],
   "source": [
    "df.dtypes"
   ]
  },
  {
   "cell_type": "markdown",
   "metadata": {},
   "source": [
    "Importamos os dados do csv utilizando Pandas, e a primeira coisa que fizemos foi ter certeza que ele foi lido corretamente. Também testamos com \"isnull()\" se nenhum dos dados é inútil para regressão. Na vida real, uma unica coluna pode ter dados na forma de inteiros, strings ou NaN, tudo num só lugar - significando que você vai ter que checar para ter certeza de que os tipos estão corretos e são úteis para regressão. Esse dataset foi rigorosamente preparado, e isso não é algo que normalmente se vê em dados no mundo real.\n",
    "#### Proximo: Análise exploratória simples e resultados da regressão.\n",
    "Vamos entender os dados antes de seguir em frente. É importante olhar o formato do dado - e checar duas vezes se o dado é relevante. Dado corrompido não é incomum, então é boa prática sempre checar duas vezes: na primeira, usamos df.describe() para olhar todas as variáveis em nossa análise. Na segunda, plotamos histogramas das variáveis alvo da analise usando plt.pyplot.hist(). "
   ]
  },
  {
   "cell_type": "code",
   "execution_count": 5,
   "metadata": {},
   "outputs": [
    {
     "data": {
      "text/html": [
       "<div>\n",
       "<style>\n",
       "    .dataframe thead tr:only-child th {\n",
       "        text-align: right;\n",
       "    }\n",
       "\n",
       "    .dataframe thead th {\n",
       "        text-align: left;\n",
       "    }\n",
       "\n",
       "    .dataframe tbody tr th {\n",
       "        vertical-align: top;\n",
       "    }\n",
       "</style>\n",
       "<table border=\"1\" class=\"dataframe\">\n",
       "  <thead>\n",
       "    <tr style=\"text-align: right;\">\n",
       "      <th></th>\n",
       "      <th>id</th>\n",
       "      <th>price</th>\n",
       "      <th>bedrooms</th>\n",
       "      <th>bathrooms</th>\n",
       "      <th>sqft_living</th>\n",
       "      <th>sqft_lot</th>\n",
       "      <th>floors</th>\n",
       "      <th>waterfront</th>\n",
       "      <th>view</th>\n",
       "      <th>condition</th>\n",
       "      <th>grade</th>\n",
       "      <th>sqft_above</th>\n",
       "      <th>sqft_basement</th>\n",
       "      <th>yr_built</th>\n",
       "      <th>yr_renovated</th>\n",
       "      <th>zipcode</th>\n",
       "      <th>lat</th>\n",
       "      <th>long</th>\n",
       "      <th>sqft_living15</th>\n",
       "      <th>sqft_lot15</th>\n",
       "    </tr>\n",
       "  </thead>\n",
       "  <tbody>\n",
       "    <tr>\n",
       "      <th>count</th>\n",
       "      <td>2.161300e+04</td>\n",
       "      <td>2.161300e+04</td>\n",
       "      <td>21613.000000</td>\n",
       "      <td>21613.000000</td>\n",
       "      <td>21613.000000</td>\n",
       "      <td>2.161300e+04</td>\n",
       "      <td>21613.000000</td>\n",
       "      <td>21613.000000</td>\n",
       "      <td>21613.000000</td>\n",
       "      <td>21613.000000</td>\n",
       "      <td>21613.000000</td>\n",
       "      <td>21613.000000</td>\n",
       "      <td>21613.000000</td>\n",
       "      <td>21613.000000</td>\n",
       "      <td>21613.000000</td>\n",
       "      <td>21613.000000</td>\n",
       "      <td>21613.000000</td>\n",
       "      <td>21613.000000</td>\n",
       "      <td>21613.000000</td>\n",
       "      <td>21613.000000</td>\n",
       "    </tr>\n",
       "    <tr>\n",
       "      <th>mean</th>\n",
       "      <td>4.580302e+09</td>\n",
       "      <td>5.400881e+05</td>\n",
       "      <td>3.370842</td>\n",
       "      <td>2.114757</td>\n",
       "      <td>2079.899736</td>\n",
       "      <td>1.510697e+04</td>\n",
       "      <td>1.494309</td>\n",
       "      <td>0.007542</td>\n",
       "      <td>0.234303</td>\n",
       "      <td>3.409430</td>\n",
       "      <td>7.656873</td>\n",
       "      <td>1788.390691</td>\n",
       "      <td>291.509045</td>\n",
       "      <td>1971.005136</td>\n",
       "      <td>84.402258</td>\n",
       "      <td>98077.939805</td>\n",
       "      <td>47.560053</td>\n",
       "      <td>-122.213896</td>\n",
       "      <td>1986.552492</td>\n",
       "      <td>12768.455652</td>\n",
       "    </tr>\n",
       "    <tr>\n",
       "      <th>std</th>\n",
       "      <td>2.876566e+09</td>\n",
       "      <td>3.671272e+05</td>\n",
       "      <td>0.930062</td>\n",
       "      <td>0.770163</td>\n",
       "      <td>918.440897</td>\n",
       "      <td>4.142051e+04</td>\n",
       "      <td>0.539989</td>\n",
       "      <td>0.086517</td>\n",
       "      <td>0.766318</td>\n",
       "      <td>0.650743</td>\n",
       "      <td>1.175459</td>\n",
       "      <td>828.090978</td>\n",
       "      <td>442.575043</td>\n",
       "      <td>29.373411</td>\n",
       "      <td>401.679240</td>\n",
       "      <td>53.505026</td>\n",
       "      <td>0.138564</td>\n",
       "      <td>0.140828</td>\n",
       "      <td>685.391304</td>\n",
       "      <td>27304.179631</td>\n",
       "    </tr>\n",
       "    <tr>\n",
       "      <th>min</th>\n",
       "      <td>1.000102e+06</td>\n",
       "      <td>7.500000e+04</td>\n",
       "      <td>0.000000</td>\n",
       "      <td>0.000000</td>\n",
       "      <td>290.000000</td>\n",
       "      <td>5.200000e+02</td>\n",
       "      <td>1.000000</td>\n",
       "      <td>0.000000</td>\n",
       "      <td>0.000000</td>\n",
       "      <td>1.000000</td>\n",
       "      <td>1.000000</td>\n",
       "      <td>290.000000</td>\n",
       "      <td>0.000000</td>\n",
       "      <td>1900.000000</td>\n",
       "      <td>0.000000</td>\n",
       "      <td>98001.000000</td>\n",
       "      <td>47.155900</td>\n",
       "      <td>-122.519000</td>\n",
       "      <td>399.000000</td>\n",
       "      <td>651.000000</td>\n",
       "    </tr>\n",
       "    <tr>\n",
       "      <th>25%</th>\n",
       "      <td>2.123049e+09</td>\n",
       "      <td>3.219500e+05</td>\n",
       "      <td>3.000000</td>\n",
       "      <td>1.750000</td>\n",
       "      <td>1427.000000</td>\n",
       "      <td>5.040000e+03</td>\n",
       "      <td>1.000000</td>\n",
       "      <td>0.000000</td>\n",
       "      <td>0.000000</td>\n",
       "      <td>3.000000</td>\n",
       "      <td>7.000000</td>\n",
       "      <td>1190.000000</td>\n",
       "      <td>0.000000</td>\n",
       "      <td>1951.000000</td>\n",
       "      <td>0.000000</td>\n",
       "      <td>98033.000000</td>\n",
       "      <td>47.471000</td>\n",
       "      <td>-122.328000</td>\n",
       "      <td>1490.000000</td>\n",
       "      <td>5100.000000</td>\n",
       "    </tr>\n",
       "    <tr>\n",
       "      <th>50%</th>\n",
       "      <td>3.904930e+09</td>\n",
       "      <td>4.500000e+05</td>\n",
       "      <td>3.000000</td>\n",
       "      <td>2.250000</td>\n",
       "      <td>1910.000000</td>\n",
       "      <td>7.618000e+03</td>\n",
       "      <td>1.500000</td>\n",
       "      <td>0.000000</td>\n",
       "      <td>0.000000</td>\n",
       "      <td>3.000000</td>\n",
       "      <td>7.000000</td>\n",
       "      <td>1560.000000</td>\n",
       "      <td>0.000000</td>\n",
       "      <td>1975.000000</td>\n",
       "      <td>0.000000</td>\n",
       "      <td>98065.000000</td>\n",
       "      <td>47.571800</td>\n",
       "      <td>-122.230000</td>\n",
       "      <td>1840.000000</td>\n",
       "      <td>7620.000000</td>\n",
       "    </tr>\n",
       "    <tr>\n",
       "      <th>75%</th>\n",
       "      <td>7.308900e+09</td>\n",
       "      <td>6.450000e+05</td>\n",
       "      <td>4.000000</td>\n",
       "      <td>2.500000</td>\n",
       "      <td>2550.000000</td>\n",
       "      <td>1.068800e+04</td>\n",
       "      <td>2.000000</td>\n",
       "      <td>0.000000</td>\n",
       "      <td>0.000000</td>\n",
       "      <td>4.000000</td>\n",
       "      <td>8.000000</td>\n",
       "      <td>2210.000000</td>\n",
       "      <td>560.000000</td>\n",
       "      <td>1997.000000</td>\n",
       "      <td>0.000000</td>\n",
       "      <td>98118.000000</td>\n",
       "      <td>47.678000</td>\n",
       "      <td>-122.125000</td>\n",
       "      <td>2360.000000</td>\n",
       "      <td>10083.000000</td>\n",
       "    </tr>\n",
       "    <tr>\n",
       "      <th>max</th>\n",
       "      <td>9.900000e+09</td>\n",
       "      <td>7.700000e+06</td>\n",
       "      <td>33.000000</td>\n",
       "      <td>8.000000</td>\n",
       "      <td>13540.000000</td>\n",
       "      <td>1.651359e+06</td>\n",
       "      <td>3.500000</td>\n",
       "      <td>1.000000</td>\n",
       "      <td>4.000000</td>\n",
       "      <td>5.000000</td>\n",
       "      <td>13.000000</td>\n",
       "      <td>9410.000000</td>\n",
       "      <td>4820.000000</td>\n",
       "      <td>2015.000000</td>\n",
       "      <td>2015.000000</td>\n",
       "      <td>98199.000000</td>\n",
       "      <td>47.777600</td>\n",
       "      <td>-121.315000</td>\n",
       "      <td>6210.000000</td>\n",
       "      <td>871200.000000</td>\n",
       "    </tr>\n",
       "  </tbody>\n",
       "</table>\n",
       "</div>"
      ],
      "text/plain": [
       "                 id         price      bedrooms     bathrooms   sqft_living  \\\n",
       "count  2.161300e+04  2.161300e+04  21613.000000  21613.000000  21613.000000   \n",
       "mean   4.580302e+09  5.400881e+05      3.370842      2.114757   2079.899736   \n",
       "std    2.876566e+09  3.671272e+05      0.930062      0.770163    918.440897   \n",
       "min    1.000102e+06  7.500000e+04      0.000000      0.000000    290.000000   \n",
       "25%    2.123049e+09  3.219500e+05      3.000000      1.750000   1427.000000   \n",
       "50%    3.904930e+09  4.500000e+05      3.000000      2.250000   1910.000000   \n",
       "75%    7.308900e+09  6.450000e+05      4.000000      2.500000   2550.000000   \n",
       "max    9.900000e+09  7.700000e+06     33.000000      8.000000  13540.000000   \n",
       "\n",
       "           sqft_lot        floors    waterfront          view     condition  \\\n",
       "count  2.161300e+04  21613.000000  21613.000000  21613.000000  21613.000000   \n",
       "mean   1.510697e+04      1.494309      0.007542      0.234303      3.409430   \n",
       "std    4.142051e+04      0.539989      0.086517      0.766318      0.650743   \n",
       "min    5.200000e+02      1.000000      0.000000      0.000000      1.000000   \n",
       "25%    5.040000e+03      1.000000      0.000000      0.000000      3.000000   \n",
       "50%    7.618000e+03      1.500000      0.000000      0.000000      3.000000   \n",
       "75%    1.068800e+04      2.000000      0.000000      0.000000      4.000000   \n",
       "max    1.651359e+06      3.500000      1.000000      4.000000      5.000000   \n",
       "\n",
       "              grade    sqft_above  sqft_basement      yr_built  yr_renovated  \\\n",
       "count  21613.000000  21613.000000   21613.000000  21613.000000  21613.000000   \n",
       "mean       7.656873   1788.390691     291.509045   1971.005136     84.402258   \n",
       "std        1.175459    828.090978     442.575043     29.373411    401.679240   \n",
       "min        1.000000    290.000000       0.000000   1900.000000      0.000000   \n",
       "25%        7.000000   1190.000000       0.000000   1951.000000      0.000000   \n",
       "50%        7.000000   1560.000000       0.000000   1975.000000      0.000000   \n",
       "75%        8.000000   2210.000000     560.000000   1997.000000      0.000000   \n",
       "max       13.000000   9410.000000    4820.000000   2015.000000   2015.000000   \n",
       "\n",
       "            zipcode           lat          long  sqft_living15     sqft_lot15  \n",
       "count  21613.000000  21613.000000  21613.000000   21613.000000   21613.000000  \n",
       "mean   98077.939805     47.560053   -122.213896    1986.552492   12768.455652  \n",
       "std       53.505026      0.138564      0.140828     685.391304   27304.179631  \n",
       "min    98001.000000     47.155900   -122.519000     399.000000     651.000000  \n",
       "25%    98033.000000     47.471000   -122.328000    1490.000000    5100.000000  \n",
       "50%    98065.000000     47.571800   -122.230000    1840.000000    7620.000000  \n",
       "75%    98118.000000     47.678000   -122.125000    2360.000000   10083.000000  \n",
       "max    98199.000000     47.777600   -121.315000    6210.000000  871200.000000  "
      ]
     },
     "execution_count": 5,
     "metadata": {},
     "output_type": "execute_result"
    }
   ],
   "source": [
    "df.describe()"
   ]
  },
  {
   "cell_type": "code",
   "execution_count": 6,
   "metadata": {},
   "outputs": [
    {
     "data": {
      "image/png": "[encoded data removed]",
      "text/plain": [
       "<matplotlib.figure.Figure at 0x2270c1664e0>"
      ]
     },
     "metadata": {},
     "output_type": "display_data"
    }
   ],
   "source": [
    "fig = plt.figure(figsize=(12, 6))\n",
    "sqft = fig.add_subplot(121)\n",
    "cost = fig.add_subplot(122)\n",
    "\n",
    "sqft.hist(df.sqft_living, bins=80)\n",
    "sqft.set_xlabel('Ft^2')\n",
    "sqft.set_title(\"Histogram of House Square Footage\")\n",
    "\n",
    "cost.hist(df.price, bins=80)\n",
    "cost.set_xlabel('Price ($)')\n",
    "cost.set_title(\"Histogram of Housing Prices\")\n",
    "\n",
    "plt.show()"
   ]
  },
  {
   "cell_type": "markdown",
   "metadata": {},
   "source": [
    "Usando matplotlib (plt) imprimimos dois histogramas para observar a distribuição de preços de casas e área em pés quadrados. O que encontramos é que ambas as variáveis têm distribuição altamente correlacionadas.\n",
    "Agora que temos um bom senso do nosso data set e sabemos as distribuições das variáveis que estamos tentando medir, vamos fazer um pouco de análise de regressão. Primeiro importamos statsmodels para pegar o estimador da menor regressão quadrática. O módulo \"Ordinary Least Squares\" vai fazer o trabalho."
   ]
  },
  {
   "cell_type": "code",
   "execution_count": 7,
   "metadata": {},
   "outputs": [
    {
     "name": "stderr",
     "output_type": "stream",
     "text": [
      "C:\\Users\\augus\\Anaconda3\\lib\\site-packages\\statsmodels\\compat\\pandas.py:56: FutureWarning: The pandas.core.datetools module is deprecated and will be removed in a future version. Please use the pandas.tseries module instead.\n",
      "  from pandas.core import datetools\n"
     ]
    }
   ],
   "source": [
    "import statsmodels.api as sm\n",
    "from statsmodels.formula.api import ols"
   ]
  },
  {
   "cell_type": "markdown",
   "metadata": {},
   "source": [
    "Quando seu codigo produz um resumo de regressão linear com OLS com apenas duas variáveis, este será sua fórmula:\n",
    "$Reg = ols('Dependent variable ~ independent variable(s), dataframe).fit()$\n",
    "$print(Reg.summary())$"
   ]
  },
  {
   "cell_type": "markdown",
   "metadata": {},
   "source": [
    "Quando olhamos para preço de casas e área para casas no condado de King, nós imprimimos o seguinte relatório de resumo:"
   ]
  },
  {
   "cell_type": "code",
   "execution_count": 8,
   "metadata": {},
   "outputs": [
    {
     "name": "stdout",
     "output_type": "stream",
     "text": [
      "                            OLS Regression Results                            \n",
      "==============================================================================\n",
      "Dep. Variable:                  price   R-squared:                       0.493\n",
      "Model:                            OLS   Adj. R-squared:                  0.493\n",
      "Method:                 Least Squares   F-statistic:                 2.100e+04\n",
      "Date:                Mon, 23 Apr 2018   Prob (F-statistic):               0.00\n",
      "Time:                        22:51:18   Log-Likelihood:            -3.0027e+05\n",
      "No. Observations:               21613   AIC:                         6.005e+05\n",
      "Df Residuals:                   21611   BIC:                         6.006e+05\n",
      "Df Model:                           1                                         \n",
      "Covariance Type:            nonrobust                                         \n",
      "===============================================================================\n",
      "                  coef    std err          t      P>|t|      [0.025      0.975]\n",
      "-------------------------------------------------------------------------------\n",
      "Intercept   -4.358e+04   4402.690     -9.899      0.000   -5.22e+04    -3.5e+04\n",
      "sqft_living   280.6236      1.936    144.920      0.000     276.828     284.419\n",
      "==============================================================================\n",
      "Omnibus:                    14832.490   Durbin-Watson:                   1.983\n",
      "Prob(Omnibus):                  0.000   Jarque-Bera (JB):           546444.713\n",
      "Skew:                           2.824   Prob(JB):                         0.00\n",
      "Kurtosis:                      26.977   Cond. No.                     5.63e+03\n",
      "==============================================================================\n",
      "\n",
      "Warnings:\n",
      "[1] Standard Errors assume that the covariance matrix of the errors is correctly specified.\n",
      "[2] The condition number is large, 5.63e+03. This might indicate that there are\n",
      "strong multicollinearity or other numerical problems.\n"
     ]
    }
   ],
   "source": [
    "m = ols('price ~ sqft_living', df).fit()\n",
    "print (m.summary())"
   ]
  },
  {
   "cell_type": "markdown",
   "metadata": {},
   "source": [
    "Quando imprimimos o resumo da regressão OLS, toda a informação relevante pode ser facilmente encontrada, incluindo R-squared, t-statistics, erro padrão, e os coeficientes de correlação. Olhando apra a saída, fica claro que há uma relação extremamente significante entre square footage e housing prices já que há um t-value extremamente alto de 144920, e um $p>|t|$ de 0% - que essensialmente significa que essa relação tem uma chance proxima de 0 de ocorrer devido variação estatística ou coincidência.\n",
    "Esta relação também tem magnitude descendente - para cada 100 pés quadrados adicionais que uma casa tem, nos podemos prever que ela será 28 mil dolares mais cara que a média. É fácil ajustar a formula para incluir mais que uma variável independente, apenas seguindo a formula:\n",
    "$Reg = ols('Dependent variable ~ ivar1 + ivar2 + ivar3... + ivarN,dataframe).fit()$\n",
    "$print(Reg.summary())$\n"
   ]
  },
  {
   "cell_type": "code",
   "execution_count": 9,
   "metadata": {},
   "outputs": [
    {
     "name": "stdout",
     "output_type": "stream",
     "text": [
      "                            OLS Regression Results                            \n",
      "==============================================================================\n",
      "Dep. Variable:                  price   R-squared:                       0.555\n",
      "Model:                            OLS   Adj. R-squared:                  0.555\n",
      "Method:                 Least Squares   F-statistic:                     6749.\n",
      "Date:                Mon, 23 Apr 2018   Prob (F-statistic):               0.00\n",
      "Time:                        22:51:18   Log-Likelihood:            -2.9884e+05\n",
      "No. Observations:               21613   AIC:                         5.977e+05\n",
      "Df Residuals:                   21608   BIC:                         5.977e+05\n",
      "Df Model:                           4                                         \n",
      "Covariance Type:            nonrobust                                         \n",
      "===============================================================================\n",
      "                  coef    std err          t      P>|t|      [0.025      0.975]\n",
      "-------------------------------------------------------------------------------\n",
      "Intercept   -7.398e+05   1.81e+04    -40.855      0.000   -7.75e+05   -7.04e+05\n",
      "sqft_living   212.3034      3.249     65.353      0.000     205.936     218.671\n",
      "bedrooms    -4.568e+04   2222.205    -20.555      0.000      -5e+04   -4.13e+04\n",
      "grade        1.001e+05   2241.553     44.673      0.000    9.57e+04    1.05e+05\n",
      "condition    6.615e+04   2598.352     25.457      0.000    6.11e+04    7.12e+04\n",
      "==============================================================================\n",
      "Omnibus:                    16773.778   Durbin-Watson:                   1.988\n",
      "Prob(Omnibus):                  0.000   Jarque-Bera (JB):           973426.793\n",
      "Skew:                           3.249   Prob(JB):                         0.00\n",
      "Kurtosis:                      35.229   Cond. No.                     2.50e+04\n",
      "==============================================================================\n",
      "\n",
      "Warnings:\n",
      "[1] Standard Errors assume that the covariance matrix of the errors is correctly specified.\n",
      "[2] The condition number is large, 2.5e+04. This might indicate that there are\n",
      "strong multicollinearity or other numerical problems.\n"
     ]
    }
   ],
   "source": [
    "m = ols('price ~ sqft_living + bedrooms + grade + condition',df).fit()\n",
    "print (m.summary())"
   ]
  },
  {
   "cell_type": "markdown",
   "metadata": {},
   "source": [
    "Em nossa saida da regressão com várias variáveis acima, aprendemos que, usando variáveis independentes adicionais, como o número de quartos, podemos prover um modelo que se encaixa melhor nos dados, já que a variável R-squared para essa regressão subiu para 0,555. Isso significa que subimos da capacidade de explicar cerca de 49,3% da variação no modelo inicial para 55,5% com a adição de algumas variáveis independentes.\n",
    "#### Vizualizando os resultados da regressão\n",
    "Ter as saidas do resumo da regressão é importante para checar a acurácia do modelo de regressão e dados para serem usados para estimativas de predição - porém, visualizar a regressão é um passo importante para comunicar os resultados da regressão em um formato mais claro.\n",
    "Esta seção irá contar inteiramente com o Seaborn (sns), que tem uma função simples e intuitiva para plotar gráficos de linhas de regressão com scatterplots. Escolhemos criar um jointplot para square footage e price que mostra a linha de regressão assim como as plots de distribuição para cada variável."
   ]
  },
  {
   "cell_type": "code",
   "execution_count": 10,
   "metadata": {},
   "outputs": [
    {
     "data": {
      "image/png": "[encoded data removed]",
      "text/plain": [
       "<matplotlib.figure.Figure at 0x2270d1ebfd0>"
      ]
     },
     "metadata": {},
     "output_type": "display_data"
    }
   ],
   "source": [
    "sns.jointplot(x=\"sqft_living\", y=\"price\", data=df, kind='reg', fit_reg= True, size = 7)\n",
    "plt.show()"
   ]
  },
  {
   "cell_type": "markdown",
   "metadata": {},
   "source": [
    "Isso concluí o exemplo de regressão. porém há muitas outras maneiras de realizar uma análise de regressão, especialmente utilizando certas técnicas."
   ]
  },
  {
   "cell_type": "markdown",
   "metadata": {},
   "source": [
    "## Criando um Modelo de Clusterização em Python\n",
    "#### Qual o problema que queremos resolver?\n",
    "Queremos criar agrupamentos naturais para um conjunto de objetos de dados que podem não ser explicitamente declarados nos próprios dados. Nossa análise usará dados de erupções do Old Faithful, o famoso geiser no parque de Yellowstone. Os dados contêm apenas dois atributos, tempo de espera entre erupções (minutos) e duração da erupção (minutos). Ter apenas dois atributos facilita a criação de um modelo simples de clusterização k-means.\n",
    "#### O que é um modelo de clusterização?\n",
    "Modelso de clusterização k-means funcionam da seguinte maneira:\n",
    "<ol>\n",
    "<li> Começa com um conjunto de centroides k selecionados aleatóriamente (o suposto centro de um cluster k).</li>\n",
    "<li> determina qual observação está em qual cluster, baseado em qual centroide está mais próximo (usando distância quadrada Euclideana).</li>\n",
    "<li> Recalcula os centroids de cada cluster minimizando a distância quadrada Euclidiana para cada observação no cluster.</li>\n",
    "<li> Repete 2 e 3 até que os membros dos clusters (e também a posição dos centroides) não muda mais.</li>\n",
    "</ol>\n",
    "Vamos continuar aplicando esta técnica no data set Old Faithful\n",
    "#### Primeiro passo: Análise de dados exploratória\n",
    "Primeiro vamos importar todos os módulos necessários para a exploração dos dados."
   ]
  },
  {
   "cell_type": "code",
   "execution_count": 3,
   "metadata": {},
   "outputs": [
    {
     "data": {
      "text/html": [
       "<div>\n",
       "<style>\n",
       "    .dataframe thead tr:only-child th {\n",
       "        text-align: right;\n",
       "    }\n",
       "\n",
       "    .dataframe thead th {\n",
       "        text-align: left;\n",
       "    }\n",
       "\n",
       "    .dataframe tbody tr th {\n",
       "        vertical-align: top;\n",
       "    }\n",
       "</style>\n",
       "<table border=\"1\" class=\"dataframe\">\n",
       "  <thead>\n",
       "    <tr style=\"text-align: right;\">\n",
       "      <th></th>\n",
       "      <th>eruptions</th>\n",
       "      <th>waiting</th>\n",
       "    </tr>\n",
       "  </thead>\n",
       "  <tbody>\n",
       "    <tr>\n",
       "      <th>0</th>\n",
       "      <td>3.600</td>\n",
       "      <td>79</td>\n",
       "    </tr>\n",
       "    <tr>\n",
       "      <th>1</th>\n",
       "      <td>1.800</td>\n",
       "      <td>54</td>\n",
       "    </tr>\n",
       "    <tr>\n",
       "      <th>2</th>\n",
       "      <td>3.333</td>\n",
       "      <td>74</td>\n",
       "    </tr>\n",
       "    <tr>\n",
       "      <th>3</th>\n",
       "      <td>2.283</td>\n",
       "      <td>62</td>\n",
       "    </tr>\n",
       "    <tr>\n",
       "      <th>4</th>\n",
       "      <td>4.533</td>\n",
       "      <td>85</td>\n",
       "    </tr>\n",
       "  </tbody>\n",
       "</table>\n",
       "</div>"
      ],
      "text/plain": [
       "   eruptions  waiting\n",
       "0      3.600       79\n",
       "1      1.800       54\n",
       "2      3.333       74\n",
       "3      2.283       62\n",
       "4      4.533       85"
      ]
     },
     "execution_count": 3,
     "metadata": {},
     "output_type": "execute_result"
    }
   ],
   "source": [
    "import pandas as pd\n",
    "import numpy as np\n",
    "import matplotlib\n",
    "import matplotlib.pyplot as plt\n",
    "\n",
    "import sklearn\n",
    "from sklearn import cluster\n",
    "\n",
    "%matplotlib inline\n",
    "\n",
    "faithful = pd.read_csv('faithful.csv')\n",
    "faithful.head()"
   ]
  },
  {
   "cell_type": "markdown",
   "metadata": {},
   "source": [
    "Tudo o que fizemos foi ler o csv do diretório local e mostramos as 5 primeiras entradas de dados. Felizmente, sabemos que esse dataset não tem colunas com valores faltando, então podemos pular a seção de limpeza de dados nesse exemplo. Vamos olhar um grafico de dispersão básico dos dados."
   ]
  },
  {
   "cell_type": "code",
   "execution_count": 4,
   "metadata": {},
   "outputs": [
    {
     "data": {
      "text/plain": [
       "Text(0,0.5,'Tempo entre erupções (minutos)')"
      ]
     },
     "execution_count": 4,
     "metadata": {},
     "output_type": "execute_result"
    },
    {
     "data": {
      "image/png": "[encoded data removed]",
      "text/plain": [
       "<matplotlib.figure.Figure at 0x16b7a0c83c8>"
      ]
     },
     "metadata": {},
     "output_type": "display_data"
    }
   ],
   "source": [
    "faithful.columns = ['eruptions', 'waiting']\n",
    "\n",
    "plt.scatter(faithful.eruptions, faithful.waiting)\n",
    "plt.title('Gráfico de dispersão dos dados do Old Faithful')\n",
    "plt.xlabel('Duração da erupção (minutos)')\n",
    "plt.ylabel('Tempo entre erupções (minutos)')\n"
   ]
  },
  {
   "cell_type": "markdown",
   "metadata": {},
   "source": [
    "#### Segundo passo: Construir o modelo de cluster\n",
    "O que vemos é um gráfico de dispersão que tem dois clusters bem aparentes, mas o data set não etiqueta nenhum indivíduo como pertencente a algum grupo. Os próximos passos cobrirão o processo de diferenciar visualmente os dois grupos. No código abaixo, estabelecemos algumas variáveis importantes e alteraçõs no formato dos dados."
   ]
  },
  {
   "cell_type": "code",
   "execution_count": 5,
   "metadata": {
    "collapsed": true
   },
   "outputs": [],
   "source": [
    "faith = np.array(faithful)\n",
    "\n",
    "k = 2\n",
    "kmeans = cluster.KMeans(n_clusters=k)\n",
    "kmeans.fit(faith)\n",
    "\n",
    "labels = kmeans.labels_\n",
    "centroids = kmeans.cluster_centers_"
   ]
  },
  {
   "cell_type": "markdown",
   "metadata": {},
   "source": [
    "#### Criação da função e formatação\n",
    "<ol>\n",
    "<li> Lemos o dataframe faithful como um vetor numpy para que o sci-kit possa ler os dados</li>\n",
    "<li> K = 2 foi escolhido como número de clusters porque há dois agrupamentos claros que tentaremos crear</li>\n",
    "<li> A variável 'kmeans' é definida pela saída chamada do módulo cluster no sci-kit. Nós temos um número K de clusters e ajustamos os dados no vetor 'faith'</li>\n",
    "</ol>\n",
    "Agora que configuramos as variáveis para criação do modelo de cluster, vamos criar a visualização. O código abaixo vai plotar um gráfico de dispersão que colore por cluster, e dá o local final do centroid. "
   ]
  },
  {
   "cell_type": "code",
   "execution_count": 7,
   "metadata": {},
   "outputs": [
    {
     "data": {
      "text/plain": [
       "<function matplotlib.pyplot.show>"
      ]
     },
     "execution_count": 7,
     "metadata": {},
     "output_type": "execute_result"
    },
    {
     "data": {
      "image/png": "[encoded data removed]",
      "text/plain": [
       "<matplotlib.figure.Figure at 0x16b7ac4b5c0>"
      ]
     },
     "metadata": {},
     "output_type": "display_data"
    }
   ],
   "source": [
    "for i in range (k):\n",
    "    # seleciona apenas observações de dados etiquetados como label == i \n",
    "    ds = faith[np.where(labels==i)]\n",
    "    # plota as observações de dados\n",
    "    plt.plot(ds[:,0],ds[:,1],'o', markersize=7)\n",
    "    #plota os centroides\n",
    "    lines = plt.plot(centroids[i,0], centroids[i,1], 'kx')\n",
    "    # faz o centroid x ser maior\n",
    "    plt.setp(lines,ms=15.0)\n",
    "    plt.setp(lines,mew=4.0)\n",
    "plt.show"
   ]
  },
  {
   "cell_type": "markdown",
   "metadata": {},
   "source": [
    "#### Um rápido detalhamento do código acima:\n",
    "<ol>\n",
    "<li> Todo o trabalho feito para agrupar os dados em dois grupos foi feito na seção anterior de código onde usamos o comando kmeans.fit(faith). Esta seção de código simplemente cria o plot que mostra isso.</li>\n",
    "<li> A variável ds é simplesmente os dados originais, porem reformatado para incluir a nova cor baseada no número de grupos - o número de inteiros em k.</li>\n",
    "<li> plt.plot chama o x-data, o y-data, o formato dos objetos e o tamanho dos círculos</li>\n",
    "<li> O resto do código mostra os centróides finais do processo de clusterização k-means, e controla o tamanho e grossura dos marcadores dos centróides.</li>\n",
    "</ol>\n",
    "E assim temos um modelo simples de clusters. Esse código poderia ser adaptado para incluir um número diferente de clusters, porém, para este problema, faz sentido utilizar apenas 2 clusters. Agora que temos esses clusters que parecem bem definidos, podemos inferir o significado desses clusters. O que eles mostram? O cluster laranja: consiste das erupções mais curtas com menor tempo de espera entre erupções e pode ser definida como 'fraca ou tiro-rápido', enquanto o cluster azul pode ser chamado de 'erupções poderosas'.\n",
    "## Conclusão\n",
    "Mineração de dados engloba várias técnicas de modelos preditivos e podemos utilizar vários programas de mineração de dados."
   ]
  },
  {
   "cell_type": "code",
   "execution_count": null,
   "metadata": {
    "collapsed": true
   },
   "outputs": [],
   "source": []
  }
 ],
 "metadata": {
  "kernelspec": {
   "display_name": "Python 3",
   "language": "python",
   "name": "python3"
  },
  "language_info": {
   "codemirror_mode": {
    "name": "ipython",
    "version": 3
   },
   "file_extension": ".py",
   "mimetype": "text/x-python",
   "name": "python",
   "nbconvert_exporter": "python",
   "pygments_lexer": "ipython3",
   "version": "3.6.3"
  }
 },
 "nbformat": 4,
 "nbformat_minor": 2
}
